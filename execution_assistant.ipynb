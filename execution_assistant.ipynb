{
 "cells": [
  {
   "cell_type": "code",
   "execution_count": 1,
   "metadata": {},
   "outputs": [],
   "source": [
    "import random "
   ]
  },
  {
   "cell_type": "code",
   "execution_count": null,
   "metadata": {},
   "outputs": [],
   "source": [
    "# POPULATION GENERATION - May correct\n",
    "population = []\n",
    "\n",
    "def generator():\n",
    "    instruction_set = 'RLUD'\n",
    "    chromosome = []\n",
    "\n",
    "    for i in range(15):\n",
    "        chromosome.append(instruction_set[random.randrange(4)])\n",
    "\n",
    "    return \"\".join(chromosome)\n",
    "\n",
    "for i in range(5):\n",
    "    population.append(generator())\n",
    "\n"
   ]
  },
  {
   "cell_type": "code",
   "execution_count": 5,
   "metadata": {},
   "outputs": [
    {
     "data": {
      "text/plain": [
       "['ULDLUDLLLUDUUDR',\n",
       " 'LRURLLUDRURUDLR',\n",
       " 'RUUDDDDRLUURRUD',\n",
       " 'LULLDDDDLRDDUDD',\n",
       " 'DDLRUUDDUUDDUDR']"
      ]
     },
     "execution_count": 5,
     "metadata": {},
     "output_type": "execute_result"
    }
   ],
   "source": [
    "population "
   ]
  },
  {
   "cell_type": "code",
   "execution_count": 3,
   "metadata": {},
   "outputs": [],
   "source": [
    "# SIMULATION OF FITNESS\n",
    "def simulation(chromosomes):\n",
    "    n = 4\n",
    "    matrix = [0] * n\n",
    "    for i in range (n): \n",
    "        matrix[i] = [0] * n\n",
    "\n",
    "    row = 3\n",
    "    col = 0\n",
    "    matrix[row][col] = 1\n",
    "    movements = {\"U\":(-1,0), \"D\":(1,0), \"R\":(0,1), \"L\":(0,-1)} # Movements dict\n",
    "    fitness_list = []\n",
    "\n",
    "    for chromosome in chromosomes:\n",
    "        for instruction in chromosome:\n",
    "            # Arce's version of movements in the matrix\n",
    "            row += movements[instruction][0]\n",
    "            col += movements[instruction][1]\n",
    "            \n",
    "            # Matrix's limits\n",
    "            if row < 0:\n",
    "                row = 0\n",
    "            elif row >= n:\n",
    "                row = n - 1 \n",
    "            elif col >= n:\n",
    "                col = n - 1\n",
    "            elif col < 0:\n",
    "                col = 0\n",
    "\n",
    "            matrix[row][col] = 1\n",
    "    \n",
    "        row = 3\n",
    "        col = 0\n",
    "        \n",
    "        fitness_list.append(sum(sum(row) for row in matrix)) \n",
    "    \n",
    "    return dict(zip(chromosomes, fitness_list)) # returns fitness for the chromosome evaluated"
   ]
  },
  {
   "cell_type": "code",
   "execution_count": 34,
   "metadata": {},
   "outputs": [
    {
     "data": {
      "text/plain": [
       "{'ULDLUDLLLUDUUDR': 4,\n",
       " 'LRURLLUDRURUDLR': 9,\n",
       " 'RUUDDDDRLUURRUD': 15,\n",
       " 'LULLDDDDLRDDUDD': 16,\n",
       " 'DDLRUUDDUUDDUDR': 16}"
      ]
     },
     "execution_count": 34,
     "metadata": {},
     "output_type": "execute_result"
    }
   ],
   "source": [
    "simulation_result = simulation(population)\n",
    "simulation_result"
   ]
  },
  {
   "cell_type": "code",
   "execution_count": 16,
   "metadata": {},
   "outputs": [],
   "source": [
    "# SELECTION (ROULETTE & ELITISM)\n",
    "\n",
    "def selection(chromosomes_fitness):\n",
    "    fitness_list = []\n",
    "    fitness_list_keys = []\n",
    "\n",
    "    for value in chromosomes_fitness.values():\n",
    "        fitness_list.append(value)\n",
    "\n",
    "    for key in chromosomes_fitness.keys():\n",
    "        fitness_list_keys.append(key)\n",
    "\n",
    "    elitism_chosen = fitness_list_keys[fitness_list.index(max(fitness_list))]\n",
    "    fitness_list_keys.pop(fitness_list.index(max(fitness_list)))\n",
    "    fitness_list.remove(max(fitness_list))\n",
    "\n",
    "    roulette = []\n",
    "\n",
    "    for i in range(len(fitness_list)): # The fitness list gets acumulated in the roulette list\n",
    "        roulette.append(fitness_list[i] if i == 0 else fitness_list[i] + fitness_list[i-1])\n",
    "    \n",
    "    spin1 = random.randrange(roulette[-1])\n",
    "\n",
    "    rlt_chosen1 = 0\n",
    "\n",
    "    for i in range(len(roulette)):\n",
    "        if i == 0:\n",
    "            if spin1 <= fitness_list[i]:\n",
    "                rlt_chosen1 = fitness_list_keys[i]        \n",
    "        else:\n",
    "            if fitness_list[i-1] < spin1 <= fitness_list[i]:\n",
    "                rlt_chosen1 = fitness_list_keys[i]\n",
    "\n",
    "    fitness_list.pop(fitness_list_keys.index(rlt_chosen1))\n",
    "    fitness_list_keys.remove(rlt_chosen1)\n",
    "\n",
    "    roulette.clear()\n",
    "\n",
    "    for i in range(len(fitness_list)): # The fitness list gets acumulated in the roulette list\n",
    "        roulette.append(fitness_list[i] if i == 0 else fitness_list[i] + fitness_list[i-1])\n",
    "\n",
    "    spin2 = random.randrange(roulette[-1])\n",
    "\n",
    "    rlt_chosen2 = 0\n",
    "\n",
    "    for i in range(len(roulette)):\n",
    "        if i == 0:\n",
    "            if spin2 <= fitness_list[i]:\n",
    "                rlt_chosen1 = fitness_list_keys[i]\n",
    "        else:\n",
    "            if fitness_list[i-1] < spin2 <= fitness_list[i]:\n",
    "                rlt_chosen2 = fitness_list_keys[i]\n",
    "\n",
    "    return(elitism_chosen, rlt_chosen1, rlt_chosen2)"
   ]
  },
  {
   "cell_type": "code",
   "execution_count": 27,
   "metadata": {},
   "outputs": [
    {
     "data": {
      "text/plain": [
       "('LULLDDDDLRDDUDD', 'LRURLLUDRURUDLR', 'RUUDDDDRLUURRUD')"
      ]
     },
     "execution_count": 27,
     "metadata": {},
     "output_type": "execute_result"
    }
   ],
   "source": [
    "selection_result = selection(simulation_result)\n",
    "selection_result"
   ]
  },
  {
   "cell_type": "code",
   "execution_count": 32,
   "metadata": {},
   "outputs": [
    {
     "data": {
      "text/plain": [
       "{'LULLDDDDLRDDUDD': 4, 'LRURLLUDRURUDLR': 9, 'RUUDDDDRLUURRUD': 14}"
      ]
     },
     "execution_count": 32,
     "metadata": {},
     "output_type": "execute_result"
    }
   ],
   "source": [
    "simulation(selection_result)"
   ]
  }
 ],
 "metadata": {
  "interpreter": {
   "hash": "8cee6523428de2bfc14c07fb867e38dab2767d7298dd37537bde6d55cefdfcb0"
  },
  "kernelspec": {
   "display_name": "Python 3.8.3 32-bit",
   "language": "python",
   "name": "python3"
  },
  "language_info": {
   "codemirror_mode": {
    "name": "ipython",
    "version": 3
   },
   "file_extension": ".py",
   "mimetype": "text/x-python",
   "name": "python",
   "nbconvert_exporter": "python",
   "pygments_lexer": "ipython3",
   "version": "3.8.3"
  },
  "orig_nbformat": 4
 },
 "nbformat": 4,
 "nbformat_minor": 2
}
